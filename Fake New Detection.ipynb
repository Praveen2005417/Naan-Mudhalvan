{
  "nbformat": 4,
  "nbformat_minor": 0,
  "metadata": {
    "colab": {
      "provenance": [],
      "authorship_tag": "ABX9TyNZpH1jwP94ZXdpQzl4Ej9k",
      "include_colab_link": true
    },
    "kernelspec": {
      "name": "python3",
      "display_name": "Python 3"
    },
    "language_info": {
      "name": "python"
    }
  },
  "cells": [
    {
      "cell_type": "markdown",
      "metadata": {
        "id": "view-in-github",
        "colab_type": "text"
      },
      "source": [
        "<a href=\"https://colab.research.google.com/github/Praveen2005417/Naan-Mudhalvan/blob/main/Fake%20New%20Detection.ipynb\" target=\"_parent\"><img src=\"https://colab.research.google.com/assets/colab-badge.svg\" alt=\"Open In Colab\"/></a>"
      ]
    },
    {
      "cell_type": "code",
      "execution_count": 1,
      "metadata": {
        "id": "P7Q-rz3FvS1q",
        "colab": {
          "base_uri": "https://localhost:8080/",
          "height": 663
        },
        "outputId": "9724816d-0f63-45fd-a6a7-0ca981c07d62"
      },
      "outputs": [
        {
          "output_type": "stream",
          "name": "stdout",
          "text": [
            "Accuracy: 0.9829621380846325\n",
            "Classification Report:\n",
            "               precision    recall  f1-score   support\n",
            "\n",
            "           0       0.98      0.98      0.98      4781\n",
            "           1       0.98      0.98      0.98      4199\n",
            "\n",
            "    accuracy                           0.98      8980\n",
            "   macro avg       0.98      0.98      0.98      8980\n",
            "weighted avg       0.98      0.98      0.98      8980\n",
            "\n"
          ]
        },
        {
          "output_type": "display_data",
          "data": {
            "text/plain": [
              "<Figure size 640x480 with 2 Axes>"
            ],
            "image/png": "[encoded data removed]"
          },
          "metadata": {}
        }
      ],
      "source": [
        "import pandas as pd\n",
        "import numpy as np\n",
        "import re\n",
        "import string\n",
        "from sklearn.model_selection import train_test_split\n",
        "from sklearn.feature_extraction.text import TfidfVectorizer\n",
        "from sklearn.linear_model import LogisticRegression\n",
        "from sklearn.metrics import accuracy_score, confusion_matrix, classification_report\n",
        "import matplotlib.pyplot as plt\n",
        "import seaborn as sns\n",
        "\n",
        "# Step 1: Load Dataset (Assuming already uploaded)\n",
        "df_fake = pd.read_csv('Fake.csv')\n",
        "df_true = pd.read_csv('True.csv')\n",
        "\n",
        "# Step 2: Label the data\n",
        "df_fake['label'] = 0  # Fake news\n",
        "df_true['label'] = 1  # Real news\n",
        "\n",
        "# Step 3: Merge and Shuffle\n",
        "df = pd.concat([df_fake, df_true])\n",
        "df = df.sample(frac=1).reset_index(drop=True)\n",
        "\n",
        "# Optional: Drop unnecessary columns\n",
        "if 'title' in df.columns and 'subject' in df.columns and 'date' in df.columns:\n",
        "    df.drop(['title', 'subject', 'date'], axis=1, inplace=True)\n",
        "\n",
        "# Step 4: Clean the Text\n",
        "def clean_text(text):\n",
        "    text = text.lower()\n",
        "    text = re.sub(r\"\\[.*?\\]\", \"\", text)\n",
        "    text = re.sub(r\"https?://\\S+|www\\.\\S+\", \"\", text)\n",
        "    text = re.sub(r\"<.*?>+\", \"\", text)\n",
        "    text = re.sub(r\"[%s]\" % re.escape(string.punctuation), \"\", text)\n",
        "    text = re.sub(r\"\\n\", \" \", text)\n",
        "    text = re.sub(r\"\\w*\\d\\w*\", \"\", text)\n",
        "    return text\n",
        "\n",
        "# Apply cleaning\n",
        "df['text'] = df['text'].apply(clean_text)\n",
        "\n",
        "# Step 5: Split the Data\n",
        "X = df['text']\n",
        "y = df['label']\n",
        "\n",
        "X_train, X_test, y_train, y_test = train_test_split(X, y, test_size=0.2, random_state=42)\n",
        "\n",
        "# Step 6: Vectorization\n",
        "vectorizer = TfidfVectorizer(stop_words='english', max_df=0.7)\n",
        "X_train_vec = vectorizer.fit_transform(X_train)\n",
        "X_test_vec = vectorizer.transform(X_test)\n",
        "\n",
        "# Step 7: Train Model\n",
        "model = LogisticRegression()\n",
        "model.fit(X_train_vec, y_train)\n",
        "\n",
        "# Step 8: Predict and Evaluate\n",
        "y_pred = model.predict(X_test_vec)\n",
        "\n",
        "print(\"Accuracy:\", accuracy_score(y_test, y_pred))\n",
        "print(\"Classification Report:\\n\", classification_report(y_test, y_pred))\n",
        "\n",
        "# Confusion Matrix\n",
        "cm = confusion_matrix(y_test, y_pred)\n",
        "sns.heatmap(cm, annot=True, fmt='d', cmap='Blues')\n",
        "plt.xlabel('Predicted')\n",
        "plt.ylabel('Actual')\n",
        "plt.title('Confusion Matrix')\n",
        "plt.show()\n"
      ]
    }
  ]
}